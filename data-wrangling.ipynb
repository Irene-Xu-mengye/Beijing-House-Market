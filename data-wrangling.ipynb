{
 "cells": [
  {
   "cell_type": "code",
   "execution_count": 20,
   "metadata": {},
   "outputs": [],
   "source": [
    "import pandas as pd"
   ]
  },
  {
   "cell_type": "code",
   "execution_count": 21,
   "metadata": {
    "scrolled": true
   },
   "outputs": [
    {
     "name": "stderr",
     "output_type": "stream",
     "text": [
      "C:\\Users\\xu_me\\anaconda3\\lib\\site-packages\\IPython\\core\\interactiveshell.py:3146: DtypeWarning: Columns (1,11,12,14) have mixed types.Specify dtype option on import or set low_memory=False.\n",
      "  has_raised = await self.run_ast_nodes(code_ast.body, cell_name,\n"
     ]
    }
   ],
   "source": [
    "data = pd.read_csv(\"data/new.csv\", delimiter = \",\", encoding= 'unicode_escape')"
   ]
  },
  {
   "cell_type": "code",
   "execution_count": 22,
   "metadata": {},
   "outputs": [],
   "source": [
    "data = data.dropna().drop_duplicates().rename(columns = {\"livingRoom\": \"bedRoom\", \"drawingRoom\": \"livingRoom\"})"
   ]
  },
  {
   "cell_type": "code",
   "execution_count": 23,
   "metadata": {},
   "outputs": [
    {
     "data": {
      "text/plain": [
       "Index(['url', 'id', 'Lng', 'Lat', 'Cid', 'tradeTime', 'DOM', 'followers',\n",
       "       'totalPrice', 'price', 'square', 'bedRoom', 'livingRoom', 'kitchen',\n",
       "       'bathRoom', 'floor', 'buildingType', 'constructionTime',\n",
       "       'renovationCondition', 'buildingStructure', 'ladderRatio', 'elevator',\n",
       "       'fiveYearsProperty', 'subway', 'district', 'communityAverage'],\n",
       "      dtype='object')"
      ]
     },
     "execution_count": 23,
     "metadata": {},
     "output_type": "execute_result"
    }
   ],
   "source": [
    "data.columns"
   ]
  },
  {
   "cell_type": "code",
   "execution_count": 24,
   "metadata": {},
   "outputs": [],
   "source": [
    "data_focus = data[['Lng', 'Lat', 'tradeTime', 'DOM', 'followers','totalPrice', 'price', 'square', 'renovationCondition',\n",
    "            'constructionTime']]"
   ]
  },
  {
   "cell_type": "code",
   "execution_count": 25,
   "metadata": {
    "scrolled": true
   },
   "outputs": [
    {
     "data": {
      "text/html": [
       "<div>\n",
       "<style scoped>\n",
       "    .dataframe tbody tr th:only-of-type {\n",
       "        vertical-align: middle;\n",
       "    }\n",
       "\n",
       "    .dataframe tbody tr th {\n",
       "        vertical-align: top;\n",
       "    }\n",
       "\n",
       "    .dataframe thead th {\n",
       "        text-align: right;\n",
       "    }\n",
       "</style>\n",
       "<table border=\"1\" class=\"dataframe\">\n",
       "  <thead>\n",
       "    <tr style=\"text-align: right;\">\n",
       "      <th></th>\n",
       "      <th>Lng</th>\n",
       "      <th>Lat</th>\n",
       "      <th>tradeTime</th>\n",
       "      <th>DOM</th>\n",
       "      <th>followers</th>\n",
       "      <th>totalPrice</th>\n",
       "      <th>price</th>\n",
       "      <th>square</th>\n",
       "      <th>renovationCondition</th>\n",
       "      <th>constructionTime</th>\n",
       "    </tr>\n",
       "  </thead>\n",
       "  <tbody>\n",
       "    <tr>\n",
       "      <th>0</th>\n",
       "      <td>116.475489</td>\n",
       "      <td>40.019520</td>\n",
       "      <td>2016-08-09</td>\n",
       "      <td>1464.0</td>\n",
       "      <td>106</td>\n",
       "      <td>415.0</td>\n",
       "      <td>31680</td>\n",
       "      <td>131.00</td>\n",
       "      <td>3</td>\n",
       "      <td>2005</td>\n",
       "    </tr>\n",
       "    <tr>\n",
       "      <th>1</th>\n",
       "      <td>116.453917</td>\n",
       "      <td>39.881534</td>\n",
       "      <td>2016-07-28</td>\n",
       "      <td>903.0</td>\n",
       "      <td>126</td>\n",
       "      <td>575.0</td>\n",
       "      <td>43436</td>\n",
       "      <td>132.38</td>\n",
       "      <td>4</td>\n",
       "      <td>2004</td>\n",
       "    </tr>\n",
       "    <tr>\n",
       "      <th>2</th>\n",
       "      <td>116.561978</td>\n",
       "      <td>39.877145</td>\n",
       "      <td>2016-12-11</td>\n",
       "      <td>1271.0</td>\n",
       "      <td>48</td>\n",
       "      <td>1030.0</td>\n",
       "      <td>52021</td>\n",
       "      <td>198.00</td>\n",
       "      <td>3</td>\n",
       "      <td>2005</td>\n",
       "    </tr>\n",
       "    <tr>\n",
       "      <th>3</th>\n",
       "      <td>116.438010</td>\n",
       "      <td>40.076114</td>\n",
       "      <td>2016-09-30</td>\n",
       "      <td>965.0</td>\n",
       "      <td>138</td>\n",
       "      <td>297.5</td>\n",
       "      <td>22202</td>\n",
       "      <td>134.00</td>\n",
       "      <td>1</td>\n",
       "      <td>2008</td>\n",
       "    </tr>\n",
       "    <tr>\n",
       "      <th>4</th>\n",
       "      <td>116.428392</td>\n",
       "      <td>39.886229</td>\n",
       "      <td>2016-08-28</td>\n",
       "      <td>927.0</td>\n",
       "      <td>286</td>\n",
       "      <td>392.0</td>\n",
       "      <td>48396</td>\n",
       "      <td>81.00</td>\n",
       "      <td>2</td>\n",
       "      <td>1960</td>\n",
       "    </tr>\n",
       "    <tr>\n",
       "      <th>...</th>\n",
       "      <td>...</td>\n",
       "      <td>...</td>\n",
       "      <td>...</td>\n",
       "      <td>...</td>\n",
       "      <td>...</td>\n",
       "      <td>...</td>\n",
       "      <td>...</td>\n",
       "      <td>...</td>\n",
       "      <td>...</td>\n",
       "      <td>...</td>\n",
       "    </tr>\n",
       "    <tr>\n",
       "      <th>318844</th>\n",
       "      <td>116.550348</td>\n",
       "      <td>39.755625</td>\n",
       "      <td>2016-06-10</td>\n",
       "      <td>1.0</td>\n",
       "      <td>6</td>\n",
       "      <td>268.0</td>\n",
       "      <td>22709</td>\n",
       "      <td>118.02</td>\n",
       "      <td>4</td>\n",
       "      <td>2006</td>\n",
       "    </tr>\n",
       "    <tr>\n",
       "      <th>318845</th>\n",
       "      <td>116.546899</td>\n",
       "      <td>39.755236</td>\n",
       "      <td>2016-06-09</td>\n",
       "      <td>1.0</td>\n",
       "      <td>8</td>\n",
       "      <td>355.5</td>\n",
       "      <td>26491</td>\n",
       "      <td>134.20</td>\n",
       "      <td>4</td>\n",
       "      <td>2009</td>\n",
       "    </tr>\n",
       "    <tr>\n",
       "      <th>318846</th>\n",
       "      <td>116.546899</td>\n",
       "      <td>39.755236</td>\n",
       "      <td>2016-06-10</td>\n",
       "      <td>1.0</td>\n",
       "      <td>8</td>\n",
       "      <td>350.0</td>\n",
       "      <td>20580</td>\n",
       "      <td>170.07</td>\n",
       "      <td>1</td>\n",
       "      <td>2003</td>\n",
       "    </tr>\n",
       "    <tr>\n",
       "      <th>318848</th>\n",
       "      <td>116.497256</td>\n",
       "      <td>39.804081</td>\n",
       "      <td>2016-06-05</td>\n",
       "      <td>1.0</td>\n",
       "      <td>2</td>\n",
       "      <td>359.0</td>\n",
       "      <td>35138</td>\n",
       "      <td>102.17</td>\n",
       "      <td>3</td>\n",
       "      <td>2000</td>\n",
       "    </tr>\n",
       "    <tr>\n",
       "      <th>318850</th>\n",
       "      <td>116.497474</td>\n",
       "      <td>39.810115</td>\n",
       "      <td>2016-06-11</td>\n",
       "      <td>1.0</td>\n",
       "      <td>0</td>\n",
       "      <td>450.0</td>\n",
       "      <td>48675</td>\n",
       "      <td>92.45</td>\n",
       "      <td>4</td>\n",
       "      <td>Î´Öª</td>\n",
       "    </tr>\n",
       "  </tbody>\n",
       "</table>\n",
       "<p>159376 rows × 10 columns</p>\n",
       "</div>"
      ],
      "text/plain": [
       "               Lng        Lat   tradeTime     DOM  followers  totalPrice  \\\n",
       "0       116.475489  40.019520  2016-08-09  1464.0        106       415.0   \n",
       "1       116.453917  39.881534  2016-07-28   903.0        126       575.0   \n",
       "2       116.561978  39.877145  2016-12-11  1271.0         48      1030.0   \n",
       "3       116.438010  40.076114  2016-09-30   965.0        138       297.5   \n",
       "4       116.428392  39.886229  2016-08-28   927.0        286       392.0   \n",
       "...            ...        ...         ...     ...        ...         ...   \n",
       "318844  116.550348  39.755625  2016-06-10     1.0          6       268.0   \n",
       "318845  116.546899  39.755236  2016-06-09     1.0          8       355.5   \n",
       "318846  116.546899  39.755236  2016-06-10     1.0          8       350.0   \n",
       "318848  116.497256  39.804081  2016-06-05     1.0          2       359.0   \n",
       "318850  116.497474  39.810115  2016-06-11     1.0          0       450.0   \n",
       "\n",
       "        price  square  renovationCondition constructionTime  \n",
       "0       31680  131.00                    3             2005  \n",
       "1       43436  132.38                    4             2004  \n",
       "2       52021  198.00                    3             2005  \n",
       "3       22202  134.00                    1             2008  \n",
       "4       48396   81.00                    2             1960  \n",
       "...       ...     ...                  ...              ...  \n",
       "318844  22709  118.02                    4             2006  \n",
       "318845  26491  134.20                    4             2009  \n",
       "318846  20580  170.07                    1             2003  \n",
       "318848  35138  102.17                    3             2000  \n",
       "318850  48675   92.45                    4             Î´Öª  \n",
       "\n",
       "[159376 rows x 10 columns]"
      ]
     },
     "execution_count": 25,
     "metadata": {},
     "output_type": "execute_result"
    }
   ],
   "source": [
    "data_focus"
   ]
  },
  {
   "cell_type": "code",
   "execution_count": 26,
   "metadata": {},
   "outputs": [],
   "source": [
    "data_general = data[['Lng', 'Lat', 'tradeTime', 'DOM', 'followers',\n",
    "       'totalPrice', 'price', 'square', 'bedRoom', 'livingRoom', 'kitchen',\n",
    "       'bathRoom', 'floor', 'buildingType', 'constructionTime',\n",
    "       'renovationCondition', 'buildingStructure', 'ladderRatio', 'elevator',\n",
    "       'fiveYearsProperty', 'subway', 'district', 'communityAverage']]"
   ]
  },
  {
   "cell_type": "code",
   "execution_count": 29,
   "metadata": {},
   "outputs": [],
   "source": [
    "data_general.to_csv('data/data.csv')"
   ]
  },
  {
   "cell_type": "code",
   "execution_count": 30,
   "metadata": {},
   "outputs": [],
   "source": [
    "data_focus.to_csv('data/data_smaller.csv')"
   ]
  },
  {
   "cell_type": "code",
   "execution_count": null,
   "metadata": {},
   "outputs": [],
   "source": []
  }
 ],
 "metadata": {
  "kernelspec": {
   "display_name": "Python 3",
   "language": "python",
   "name": "python3"
  },
  "language_info": {
   "codemirror_mode": {
    "name": "ipython",
    "version": 3
   },
   "file_extension": ".py",
   "mimetype": "text/x-python",
   "name": "python",
   "nbconvert_exporter": "python",
   "pygments_lexer": "ipython3",
   "version": "3.8.5"
  }
 },
 "nbformat": 4,
 "nbformat_minor": 5
}
